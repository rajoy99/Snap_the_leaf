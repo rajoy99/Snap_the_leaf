{
 "cells": [
  {
   "cell_type": "code",
   "execution_count": 3,
   "metadata": {},
   "outputs": [
    {
     "name": "stdout",
     "output_type": "stream",
     "text": [
      "tomato_mosaic_virus.html\n"
     ]
    }
   ],
   "source": [
    "disease_class = ['Pepper__bell___Bacterial_spot', 'Pepper__bell___healthy', 'Potato___Early_blight',\n",
    "                'Potato___Late_blight', 'Potato___healthy', 'Tomato_Bacterial_spot', 'Tomato_Early_blight',\n",
    "                'Tomato_Late_blight', 'Tomato_Leaf_Mold', 'Tomato_Septoria_leaf_spot',\n",
    "                'Tomato_Spider_mites_Two_spotted_spider_mite', 'Tomato__Target_Spot',\n",
    "                'Tomato__Tomato_YellowLeaf__Curl_Virus', 'Tomato__Tomato_mosaic_virus', 'Tomato_healthy']\n",
    "\n",
    "pages = ['pepper_bell_bacterial.html','healthy.html','potato_early_blight.html','potato_late_blight.html','healthy.html','tomato_bacterial_spot.html','tomato_early_blight.html','tomato_late_blight.html','tomato_leaf_mold.html','tomato_septoria_leaf_spot.html','tomato_spider_mites.html','tomato_target_spot.html','tomato_yellow_leaf.html','tomato_mosaic_virus.html','healthy.html']\n",
    "\n",
    "cure_map=dict(zip(disease_class,pages))\n",
    "\n",
    "print(cure_map['Tomato__Tomato_mosaic_virus'])"
   ]
  }
 ],
 "metadata": {
  "interpreter": {
   "hash": "1464921c3f38cb026f717aae66c5880ba8aa4b84a36c16b061229c379e9ad4ad"
  },
  "kernelspec": {
   "display_name": "Python 3.10.1 64-bit",
   "language": "python",
   "name": "python3"
  },
  "language_info": {
   "codemirror_mode": {
    "name": "ipython",
    "version": 3
   },
   "file_extension": ".py",
   "mimetype": "text/x-python",
   "name": "python",
   "nbconvert_exporter": "python",
   "pygments_lexer": "ipython3",
   "version": "3.10.1"
  },
  "orig_nbformat": 4
 },
 "nbformat": 4,
 "nbformat_minor": 2
}
